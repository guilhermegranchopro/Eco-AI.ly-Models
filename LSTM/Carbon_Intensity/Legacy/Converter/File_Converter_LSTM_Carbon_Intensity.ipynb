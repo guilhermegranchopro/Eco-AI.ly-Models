{
  "nbformat": 4,
  "nbformat_minor": 0,
  "metadata": {
    "colab": {
      "provenance": [],
      "authorship_tag": "ABX9TyPPTGF3+UAoVaBk+tHFna/S",
      "include_colab_link": true
    },
    "kernelspec": {
      "name": "python3",
      "display_name": "Python 3"
    },
    "language_info": {
      "name": "python"
    }
  },
  "cells": [
    {
      "cell_type": "markdown",
      "metadata": {
        "id": "view-in-github",
        "colab_type": "text"
      },
      "source": [
        "<a href=\"https://colab.research.google.com/github/guilhermegranchopro/Eco-AI.ly/blob/main/LSTM/Carbon_Intensity/File_Converter_LSTM_Carbon_Intensity.ipynb\" target=\"_parent\"><img src=\"https://colab.research.google.com/assets/colab-badge.svg\" alt=\"Open In Colab\"/></a>"
      ]
    },
    {
      "cell_type": "code",
      "source": [
        "# Conectar ao Google Drive (necessário para carregar o modelo salvo)\n",
        "from google.colab import drive\n",
        "drive.mount('/content/drive')"
      ],
      "metadata": {
        "colab": {
          "base_uri": "https://localhost:8080/"
        },
        "id": "3SfojAJMsck6",
        "outputId": "bcd6b2ec-b7db-4537-8b18-ab9d262835e6"
      },
      "execution_count": 4,
      "outputs": [
        {
          "output_type": "stream",
          "name": "stdout",
          "text": [
            "Drive already mounted at /content/drive; to attempt to forcibly remount, call drive.mount(\"/content/drive\", force_remount=True).\n"
          ]
        }
      ]
    },
    {
      "cell_type": "code",
      "source": [
        "import tensorflow as tf\n",
        "\n",
        "# Carrega o modelo salvo no formato .keras\n",
        "model = tf.keras.models.load_model('/content/drive/My Drive/Modelos/LSTM_LCA_Model.keras')"
      ],
      "metadata": {
        "id": "Wm3bVO41a_QG"
      },
      "execution_count": 5,
      "outputs": []
    },
    {
      "cell_type": "code",
      "source": [
        "print(tf.__version__)"
      ],
      "metadata": {
        "colab": {
          "base_uri": "https://localhost:8080/"
        },
        "id": "ttbztan3Glbr",
        "outputId": "1e49c58f-1e4a-4502-8ee8-eb83ea289aec"
      },
      "execution_count": 6,
      "outputs": [
        {
          "output_type": "stream",
          "name": "stdout",
          "text": [
            "2.18.0\n"
          ]
        }
      ]
    },
    {
      "cell_type": "code",
      "source": [
        "# Salva o modelo no formato HDF5\n",
        "model.save('/content/drive/My Drive/Modelos/LSTM_LCA_Model.h5')"
      ],
      "metadata": {
        "id": "uTxTXdU_8zMs"
      },
      "execution_count": null,
      "outputs": []
    },
    {
      "cell_type": "code",
      "source": [
        "# Exporte para o formato SavedModel\n",
        "tf.saved_model.save(model, '/content/drive/My Drive/Modelos/LSTM_LCA_Model')"
      ],
      "metadata": {
        "id": "l68O8ZfkAgek"
      },
      "execution_count": null,
      "outputs": []
    },
    {
      "cell_type": "code",
      "source": [
        "import json\n",
        "import numpy as np\n",
        "from keras.models import model_from_json\n",
        "\n",
        "# Obtém a arquitetura do modelo e converte a string JSON para um dicionário\n",
        "architecture_json = model.to_json()\n",
        "architecture = json.loads(architecture_json)\n",
        "\n",
        "# Obtém os pesos do modelo e converte cada array NumPy para lista (para serialização em JSON)\n",
        "weights = model.get_weights()\n",
        "weights_as_list = [w.tolist() for w in weights]\n",
        "\n",
        "# Cria um dicionário combinando a arquitetura e os pesos\n",
        "model_data = {\n",
        "    \"architecture\": architecture,\n",
        "    \"weights\": weights_as_list\n",
        "}\n",
        "\n",
        "# Define o caminho completo para salvar o arquivo JSON no diretório desejado\n",
        "caminho_arquivo = '/content/drive/My Drive/Modelos/LSTM_LCA_Model.json'\n",
        "\n",
        "# Salva o dicionário completo em um arquivo JSON\n",
        "with open(caminho_arquivo, \"w\") as json_file:\n",
        "    json.dump(model_data, json_file)\n",
        "\n",
        "print(f\"Modelo (arquitetura + pesos) salvo em: {caminho_arquivo}\")"
      ],
      "metadata": {
        "colab": {
          "base_uri": "https://localhost:8080/"
        },
        "id": "sGt4vLxl5R9f",
        "outputId": "b6e60d98-a244-45fa-e4c6-3dfa0d78d101"
      },
      "execution_count": null,
      "outputs": [
        {
          "output_type": "stream",
          "name": "stdout",
          "text": [
            "Modelo (arquitetura + pesos) salvo em: /content/drive/My Drive/Modelos/LSTM_LCA_Model.json\n"
          ]
        }
      ]
    }
  ]
}