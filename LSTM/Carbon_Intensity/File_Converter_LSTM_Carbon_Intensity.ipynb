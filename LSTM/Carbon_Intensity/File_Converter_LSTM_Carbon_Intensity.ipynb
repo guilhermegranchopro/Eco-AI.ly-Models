{
  "nbformat": 4,
  "nbformat_minor": 0,
  "metadata": {
    "colab": {
      "provenance": [],
      "authorship_tag": "ABX9TyMeXrjmY1gaPL5SYCQYdwly",
      "include_colab_link": true
    },
    "kernelspec": {
      "name": "python3",
      "display_name": "Python 3"
    },
    "language_info": {
      "name": "python"
    }
  },
  "cells": [
    {
      "cell_type": "markdown",
      "metadata": {
        "id": "view-in-github",
        "colab_type": "text"
      },
      "source": [
        "<a href=\"https://colab.research.google.com/github/guilhermegranchopro/Eco-AI.ly/blob/main/LSTM/Carbon_Intensity/File_Converter_LSTM_Carbon_Intensity.ipynb\" target=\"_parent\"><img src=\"https://colab.research.google.com/assets/colab-badge.svg\" alt=\"Open In Colab\"/></a>"
      ]
    },
    {
      "cell_type": "code",
      "source": [
        "# Conectar ao Google Drive (necessário para carregar o modelo salvo)\n",
        "from google.colab import drive\n",
        "drive.mount('/content/drive')"
      ],
      "metadata": {
        "colab": {
          "base_uri": "https://localhost:8080/"
        },
        "id": "3SfojAJMsck6",
        "outputId": "b077a57c-5adc-40f5-871a-d745a185354b"
      },
      "execution_count": 1,
      "outputs": [
        {
          "output_type": "stream",
          "name": "stdout",
          "text": [
            "Mounted at /content/drive\n"
          ]
        }
      ]
    },
    {
      "cell_type": "code",
      "source": [
        "import tensorflow as tf\n",
        "\n",
        "# Carrega o modelo salvo no formato .keras\n",
        "model = tf.keras.models.load_model('/content/drive/My Drive/Modelos/LSTM_LCA_Model.keras')\n",
        "\n",
        "# Salva o modelo no formato HDF5\n",
        "model.save('/content/drive/My Drive/Modelos/LSTM_LCA_Model.h5')"
      ],
      "metadata": {
        "colab": {
          "base_uri": "https://localhost:8080/"
        },
        "id": "Wm3bVO41a_QG",
        "outputId": "376eef5c-1e0b-4abb-bca6-4ca9d7dceab1"
      },
      "execution_count": 2,
      "outputs": [
        {
          "output_type": "stream",
          "name": "stderr",
          "text": [
            "WARNING:absl:You are saving your model as an HDF5 file via `model.save()` or `keras.saving.save_model(model)`. This file format is considered legacy. We recommend using instead the native Keras format, e.g. `model.save('my_model.keras')` or `keras.saving.save_model(model, 'my_model.keras')`. \n"
          ]
        }
      ]
    },
    {
      "cell_type": "code",
      "source": [
        "import json\n",
        "import numpy as np\n",
        "from keras.models import model_from_json\n",
        "\n",
        "# Obtém a arquitetura do modelo e converte a string JSON para um dicionário\n",
        "architecture_json = model.to_json()\n",
        "architecture = json.loads(architecture_json)\n",
        "\n",
        "# Obtém os pesos do modelo e converte cada array NumPy para lista (para serialização em JSON)\n",
        "weights = model.get_weights()\n",
        "weights_as_list = [w.tolist() for w in weights]\n",
        "\n",
        "# Cria um dicionário combinando a arquitetura e os pesos\n",
        "model_data = {\n",
        "    \"architecture\": architecture,\n",
        "    \"weights\": weights_as_list\n",
        "}\n",
        "\n",
        "# Define o caminho completo para salvar o arquivo JSON no diretório desejado\n",
        "caminho_arquivo = '/content/drive/My Drive/Modelos/LSTM_LCA_Model.json'\n",
        "\n",
        "# Salva o dicionário completo em um arquivo JSON\n",
        "with open(caminho_arquivo, \"w\") as json_file:\n",
        "    json.dump(model_data, json_file)\n",
        "\n",
        "print(f\"Modelo (arquitetura + pesos) salvo em: {caminho_arquivo}\")"
      ],
      "metadata": {
        "colab": {
          "base_uri": "https://localhost:8080/"
        },
        "id": "sGt4vLxl5R9f",
        "outputId": "b6e60d98-a244-45fa-e4c6-3dfa0d78d101"
      },
      "execution_count": 3,
      "outputs": [
        {
          "output_type": "stream",
          "name": "stdout",
          "text": [
            "Modelo (arquitetura + pesos) salvo em: /content/drive/My Drive/Modelos/LSTM_LCA_Model.json\n"
          ]
        }
      ]
    }
  ]
}