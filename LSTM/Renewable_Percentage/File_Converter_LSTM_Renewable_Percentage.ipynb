{
  "nbformat": 4,
  "nbformat_minor": 0,
  "metadata": {
    "colab": {
      "provenance": [],
      "authorship_tag": "ABX9TyP+2zxrSIzEb4gfNlFwcpIY",
      "include_colab_link": true
    },
    "kernelspec": {
      "name": "python3",
      "display_name": "Python 3"
    },
    "language_info": {
      "name": "python"
    }
  },
  "cells": [
    {
      "cell_type": "markdown",
      "metadata": {
        "id": "view-in-github",
        "colab_type": "text"
      },
      "source": [
        "<a href=\"https://colab.research.google.com/github/guilhermegranchopro/Eco-AI.ly/blob/main/LSTM/Renewable_Percentage/File_Converter_LSTM_Renewable_Percentage.ipynb\" target=\"_parent\"><img src=\"https://colab.research.google.com/assets/colab-badge.svg\" alt=\"Open In Colab\"/></a>"
      ]
    },
    {
      "cell_type": "code",
      "source": [
        "# Conectar ao Google Drive (necessário para carregar o modelo salvo)\n",
        "from google.colab import drive\n",
        "drive.mount('/content/drive')"
      ],
      "metadata": {
        "colab": {
          "base_uri": "https://localhost:8080/"
        },
        "id": "3SfojAJMsck6",
        "outputId": "dbcbfda6-bd53-41d9-ba7e-8255caf1d972"
      },
      "execution_count": 11,
      "outputs": [
        {
          "output_type": "stream",
          "name": "stdout",
          "text": [
            "Drive already mounted at /content/drive; to attempt to forcibly remount, call drive.mount(\"/content/drive\", force_remount=True).\n"
          ]
        }
      ]
    },
    {
      "cell_type": "code",
      "source": [
        "import tensorflow as tf\n",
        "\n",
        "# Carrega o modelo salvo no formato .keras\n",
        "model = tf.keras.models.load_model('/content/drive/My Drive/Modelos/LSTM_RP_Model.keras')\n",
        "\n",
        "# Salva o modelo no formato HDF5\n",
        "model.save('/content/drive/My Drive/Modelos/LSTM_RP_Model.h5')"
      ],
      "metadata": {
        "colab": {
          "base_uri": "https://localhost:8080/"
        },
        "id": "Wm3bVO41a_QG",
        "outputId": "19520478-b77f-4f7c-b23f-f2bc297d1ef1"
      },
      "execution_count": 12,
      "outputs": [
        {
          "output_type": "stream",
          "name": "stderr",
          "text": [
            "WARNING:absl:You are saving your model as an HDF5 file via `model.save()` or `keras.saving.save_model(model)`. This file format is considered legacy. We recommend using instead the native Keras format, e.g. `model.save('my_model.keras')` or `keras.saving.save_model(model, 'my_model.keras')`. \n"
          ]
        }
      ]
    },
    {
      "cell_type": "code",
      "source": [
        "import json\n",
        "import numpy as np\n",
        "from keras.models import model_from_json\n",
        "\n",
        "# Obtém a arquitetura do modelo e converte a string JSON para um dicionário\n",
        "architecture_json = model.to_json()\n",
        "architecture = json.loads(architecture_json)\n",
        "\n",
        "# Obtém os pesos do modelo e converte cada array NumPy para lista (para serialização em JSON)\n",
        "weights = model.get_weights()\n",
        "weights_as_list = [w.tolist() for w in weights]\n",
        "\n",
        "# Cria um dicionário combinando a arquitetura e os pesos\n",
        "model_data = {\n",
        "    \"architecture\": architecture,\n",
        "    \"weights\": weights_as_list\n",
        "}\n",
        "\n",
        "# Define o caminho completo para salvar o arquivo JSON no diretório desejado\n",
        "caminho_arquivo = '/content/drive/My Drive/Modelos/LSTM_RP_Model.json'\n",
        "\n",
        "# Salva o dicionário completo em um arquivo JSON\n",
        "with open(caminho_arquivo, \"w\") as json_file:\n",
        "    json.dump(model_data, json_file)\n",
        "\n",
        "print(f\"Modelo (arquitetura + pesos) salvo em: {caminho_arquivo}\")"
      ],
      "metadata": {
        "colab": {
          "base_uri": "https://localhost:8080/"
        },
        "id": "sGt4vLxl5R9f",
        "outputId": "63c98986-152c-4da8-e783-ca6f296190e4"
      },
      "execution_count": 13,
      "outputs": [
        {
          "output_type": "stream",
          "name": "stdout",
          "text": [
            "Modelo (arquitetura + pesos) salvo em: /content/drive/My Drive/Modelos/LSTM_RP_Model.json\n"
          ]
        }
      ]
    }
  ]
}